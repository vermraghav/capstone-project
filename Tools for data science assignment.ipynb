{
    "cells": [
        {
            "cell_type": "markdown",
            "metadata": {
                "collapsed": true
            },
            "source": "# My Jupyter Notebook on IBM Watson Studio"
        },
        {
            "cell_type": "markdown",
            "metadata": {},
            "source": "**Raghav Verma**\n\nData Scientist"
        },
        {
            "cell_type": "markdown",
            "metadata": {},
            "source": "*I want to become a data scientist because it is one of the highest paying jobs of the 21st century and it will help me showcase my strongest skillsets that are analytical mind,mathematics and being inquisitive*"
        },
        {
            "cell_type": "markdown",
            "metadata": {},
            "source": "### In the next cell we'll compute and print the sum of two variables a and b\n"
        },
        {
            "cell_type": "code",
            "execution_count": 3,
            "metadata": {},
            "outputs": [
                {
                    "name": "stdout",
                    "output_type": "stream",
                    "text": "5\n"
                }
            ],
            "source": "a=2\nb=3\nprint(a+b)\n"
        },
        {
            "cell_type": "markdown",
            "metadata": {},
            "source": "horizontal rule\n___\n\nLook at the table \n\nNAME | AGE | SEX\n--- | --- | ---\nraghav | 21 | Male\nkhushi | 27 | Female\n\nhyperlink\n\n[here's the link for google search](https://www.google.com)\n\n\n\n\n"
        },
        {
            "cell_type": "code",
            "execution_count": null,
            "metadata": {},
            "outputs": [],
            "source": ""
        }
    ],
    "metadata": {
        "kernelspec": {
            "display_name": "Python 3.8",
            "language": "python",
            "name": "python3"
        },
        "language_info": {
            "codemirror_mode": {
                "name": "ipython",
                "version": 3
            },
            "file_extension": ".py",
            "mimetype": "text/x-python",
            "name": "python",
            "nbconvert_exporter": "python",
            "pygments_lexer": "ipython3",
            "version": "3.8.12"
        }
    },
    "nbformat": 4,
    "nbformat_minor": 1
}